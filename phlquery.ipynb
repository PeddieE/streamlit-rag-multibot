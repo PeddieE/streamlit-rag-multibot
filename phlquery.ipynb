{
 "cells": [
  {
   "cell_type": "code",
   "execution_count": 2,
   "id": "8c278c6e",
   "metadata": {},
   "outputs": [],
   "source": [
    "## phlquery.ipynb <-- jupyter version of the RAG-app; this is where it\n",
    "##                    all started\n",
    "\n",
    "## Load the API key\n",
    "import os\n",
    "from dotenv import load_dotenv, find_dotenv\n",
    "_ = load_dotenv(find_dotenv())\n",
    "openai_api_key = os.environ[\"OPENAI_API_KEY\"]"
   ]
  },
  {
   "cell_type": "code",
   "execution_count": 1,
   "id": "109abe93",
   "metadata": {},
   "outputs": [],
   "source": [
    "from langchain_community.vectorstores import FAISS\n",
    "from langchain_openai import OpenAIEmbeddings\n",
    "from langchain_text_splitters import CharacterTextSplitter\n",
    "from langchain_community.document_loaders import TextLoader\n",
    "#from langchain.chains import RetrievalQA\n",
    "from langchain.llms import OpenAI"
   ]
  },
  {
   "cell_type": "code",
   "execution_count": 3,
   "id": "d75cdeb8",
   "metadata": {},
   "outputs": [],
   "source": [
    "loaded_document = TextLoader(\"./data/PhilHistory.txt\", encoding='utf-8').load()"
   ]
  },
  {
   "cell_type": "code",
   "execution_count": 4,
   "id": "dfaddffd",
   "metadata": {},
   "outputs": [
    {
     "name": "stdout",
     "output_type": "stream",
     "text": [
      "[Document(metadata={'source': './data/PhilHistory.txt'}, page_content='The Philippines, an archipelago comprising over 7,600 islands in Southeast Asia, boasts a profound and intricate history, shaped by millennia of indigenous development, centuries of colonial rule, and the unwavering spirit of its people. Its narrative is a mosaic of diverse cultures, struggles for sovereignty, and a continuous quest for national identity.\\n\\nI. The Pre-Colonial Tapestry (c. 900 AD - 1565 AD)\\n\\nLong before the arrival of European explorers, the Philippine islands were a vibrant hub of diverse societies. Early Filipinos, of Austronesian descent, arrived in waves, bringing with them advanced maritime technology, agricultural practices, and sophisticated social structures. Communities were typically organized into independent \"barangays,\" named after the boats (balangay) that brought the early settlers. Each barangay was headed by a \"datu\" or \"rajah,\" hereditary leaders who served as chief, judge, and military commander. Social classes were generally composed of the datu, maharlika (nobles), timawa (freemen), and alipin (dependents or slaves, often through debt or capture, whose status could be changed).\\n\\nTrade was a cornerstone of pre-colonial Philippine life. Filipinos engaged in extensive commerce with neighboring Asian civilizations, including China, India, Japan, Thailand, Vietnam, and Malaysia. Excavations have unearthed pottery, silks, and other artifacts from these regions, attesting to robust trade networks. This exchange led to significant cultural diffusion, particularly the influence of Indianized kingdoms and the spread of Islam. By the 13th century, Islam began to take root in the southern Philippines, brought by Arab and Malay traders and missionaries. Sultanates, like those of Sulu and Maguindanao, emerged as powerful political and economic entities, extending their influence across the southern islands and even parts of Borneo. These pre-colonial societies developed their own writing systems (Baybayin), rich oral traditions, intricate weaving, and sophisticated metallurgy. They possessed a deep understanding of their environment, practicing sustainable agriculture and fishing.\\n\\nII. The Era of Spanish Colonialism (1565-1898)\\n\\nThe arrival of Ferdinand Magellan in 1521 marked the beginning of European contact, though his expedition ended tragically for him in the Battle of Mactan. It was Miguel López de Legazpi who successfully established the first permanent Spanish settlement in Cebu in 1565, subsequently moving the capital to Manila in 1571. For over three centuries, Spain imposed a centralized colonial administration.\\n\\nThe primary motivations for Spanish colonization were the propagation of Catholicism and the acquisition of wealth. The friars, particularly the Augustinians, Franciscans, Dominicans, and Recollects, played a pivotal role, not only in converting the populace but also in local administration, education, and even economic affairs. Churches, convents, and schools became the centers of community life. While Christianity profoundly shaped Filipino culture, it often came with the suppression of indigenous beliefs and practices.\\n\\nEconomically, the Spanish introduced new crops, agricultural techniques, and the \"encomienda\" system (a grant of land and its inhabitants to a Spaniard), which often led to abuse and exploitation. The \"Galleon Trade,\" linking Manila with Acapulco, Mexico, for over 250 years, was the economic lifeline of the colony. Asian goods like silk, spices, and porcelain were traded for Mexican silver, bringing significant wealth to a select few but often little benefit to the broader Filipino population. Forced labor for public works (\"polo y servicio\") and tribute collection were common grievances.\\n\\nDespite the firm grip of Spanish rule, resistance was constant but localized. Early revolts, such as those led by Lapu-Lapu, Dagohoy (whose rebellion in Bohol lasted for 85 years), and numerous others, were often triggered by religious oppression, economic hardship, or desire for autonomy. By the 19th century, a burgeoning sense of Filipino identity (\"Filipino\" initially referred to Spaniards born in the Philippines, but gradually encompassed the native elite) began to emerge. The opening of the Suez Canal in 1869 shortened travel time to Europe, allowing more Filipinos to study abroad and encounter liberal ideas.\\n\\nThis intellectual awakening gave rise to the \"Propaganda Movement,\" led by educated Filipinos like Jose Rizal, Marcelo H. del Pilar, and Graciano Lopez Jaena. They advocated for reforms within the Spanish system: equality before the law, representation in the Spanish Cortes, and secularization of the parishes. Their writings, particularly Rizal\\'s novels \"Noli Me Tángere\" and \"El filibusterismo,\" exposed the injustices of Spanish rule and ignited nationalist sentiments.\\n\\nIII. Revolution, Republic, and American Intervention (1896-1946)\\n\\nThe failure of the Propaganda Movement to achieve meaningful reforms led to a more radical approach. Andres Bonifacio, a self-educated plebeian, founded the \"Katipunan\" (Kataas-taasang, Kagalang-galangang Katipunan ng mga Anak ng Bayan – Highest and Most Respected Association of the Sons of the Nation) in 1892. This secret society aimed for complete independence through armed revolution. The discovery of the Katipunan in August 1896 triggered the Philippine Revolution.\\n\\nThough initially hesitant, Jose Rizal\\'s unjust execution in December 1896 on charges of rebellion galvanized the Filipino people. The revolution spread rapidly, with Emilio Aguinaldo emerging as a prominent leader, especially after the Tejeros Convention in 1897, where he replaced Bonifacio as the revolutionary president. The Spanish-American War in 1898 provided a turning point. As the U.S. Navy defeated the Spanish fleet in Manila Bay, Aguinaldo returned to the Philippines from exile and, believing American assurances of support for independence, rallied Filipino forces. On June 12, 1898, Aguinaldo declared Philippine independence from Spain in Kawit, Cavite, establishing the First Philippine Republic, Asia\\'s first constitutional republic.\\n\\nHowever, Filipino aspirations for genuine independence were thwarted by the Treaty of Paris in December 1898, where Spain ceded the Philippines to the United States for $20 million. This act, without Filipino consent, ignited the Philippine-American War (1899-1902), a brutal conflict that resulted in significant Filipino casualties and the eventual capture of Aguinaldo. Despite the official end of the war, sporadic resistance continued for several years.\\n\\nUnder American rule, the Philippines underwent significant transformations. The U.S. introduced a public education system, making English the medium of instruction and laying the groundwork for a more educated populace. Infrastructure development, including roads, bridges, and ports, was prioritized. American political institutions, such as a republican form of government with elected representatives, were gradually introduced, culminating in the establishment of the Philippine Commonwealth in 1935, with Manuel L. Quezon as its first president. This period was intended as a transition towards full independence, scheduled for 1946.\\n\\nThe outbreak of World War II dramatically interrupted this path. On December 8, 1941, Japan launched an attack on the Philippines, just hours after the Pearl Harbor attack. The ensuing Japanese occupation (1942-1945) was a period of immense suffering, characterized by the Bataan Death March, widespread atrocities, and the suppression of civil liberties. Filipino and American forces, though initially overwhelmed, engaged in fierce resistance, and numerous guerilla movements emerged across the islands. The liberation of the Philippines began with General Douglas MacArthur\\'s landing in Leyte in October 1944, culminating in the intense Battle of Manila in 1945.\\n\\nIV. The Post-War Republic: Challenges and Progress (1946-2000)\\n\\nOn July 4, 1946, the Philippines finally gained full independence from the United States. The nascent republic faced the monumental task of rebuilding a war-devastated nation. Early challenges included widespread destruction, economic rehabilitation, and the resurgence of the Hukbalahap rebellion (a peasant-led communist insurgency, eventually suppressed by the Magsaysay administration).\\n\\nThe post-independence period saw a succession of presidencies, each grappling with issues of poverty, corruption, and political stability:\\n\\n* **Manuel Roxas (1946-1948):** The first president of the independent republic, he focused on reconstruction and establishing relations with the U.S.\\n* **Elpidio Quirino (1948-1953):** Continued Roxas\\'s policies, but faced the Huk rebellion and economic challenges.\\n* **Ramon Magsaysay (1953-1957):** A popular president, known for his anti-corruption efforts and focus on rural development, and his success in curbing the Huk insurgency.\\n* **Carlos P. Garcia (1957-1961):** Advocated for the \"Filipino First\" policy, promoting local industries and economic nationalism.\\n* **Diosdado Macapagal (1961-1965):** Shifted the Independence Day from July 4 to June 12 and introduced land reform programs.\\n\\n**Ferdinand Marcos (1965-1986):** Marcos\\'s presidency, initially marked by ambitious infrastructure projects and economic growth, took a drastic turn.\\n    * **Martial Law (1972-1981):** Citing rising communist insurgency and civil unrest, Marcos declared Martial Law on September 21, 1972. This period saw the suppression of civil liberties, media censorship, arrest of political opponents, and military rule. While some argue for initial improvements in peace and order and infrastructure, it also led to widespread human rights abuses, rampant corruption, and the consolidation of power under Marcos and his cronies.\\n    * **Economic Decline:** Despite some visible development, the economy began to falter under the weight of massive foreign debt, mismanagement, and crony capitalism.\\n    * **Assassination of Benigno \"Ninoy\" Aquino Jr. (1983):** The assassination of the popular opposition leader upon his return from exile in 1983 ignited widespread public outrage and galvanized the anti-Marcos movement.\\n\\n**People Power Revolution (1986):** Mounting protests, a fraudulent snap election in February 1986, and a military defection led to the historic People Power Revolution. Millions of Filipinos, supported by elements of the military, converged on EDSA (Epifanio de los Santos Avenue) in Manila, peacefully demanding Marcos\\'s ouster. Marcos and his family were forced into exile, ending his 20-year rule.\\n\\n**Corazon Aquino (1986-1992):** Ninoy Aquino\\'s widow, Corazon Aquino, was installed as president, ushering in a new democratic era. Her administration focused on restoring democratic institutions, drafting a new constitution (ratified in 1987), and addressing human rights abuses. However, it also faced numerous coup attempts by disgruntled military factions and persistent economic challenges. The bases agreement with the United States also expired, leading to the withdrawal of U.S. military presence at Clark Air Base and Subic Bay Naval Base by 1992, after the Philippine Senate rejected a new treaty.\\n\\n**Fidel V. Ramos (1992-1998):** Ramos, a former general and a key figure in the People Power Revolution, succeeded Aquino. His presidency was marked by a period of economic recovery and liberalization, dubbed \"Philippines 2000,\" which aimed to propel the country into newly industrialized status. He pursued peace negotiations with rebel groups and focused on energy and infrastructure development. The Philippines experienced significant economic growth during the mid-1990s, though it was impacted by the 1997 Asian Financial Crisis.\\n\\n**Joseph Estrada (1998-2001):** A popular actor, Estrada won the presidency by a landslide in 1998, campaigning on an anti-poverty platform. His administration faced challenges related to governance and alleged corruption. By the end of 2000, allegations of plunder led to an impeachment trial, setting the stage for further political upheaval in early 2001.\\n\\nBy the turn of the millennium, the Philippines had established itself as a vibrant democracy, though it continued to grapple with persistent issues such as poverty, corruption, political dynasties, and security concerns, particularly in the southern regions. Its journey into the 21st century would continue to be defined by these enduring challenges and the ongoing pursuit of national development and stability.\\n```')]\n"
     ]
    }
   ],
   "source": [
    "print(loaded_document)"
   ]
  },
  {
   "cell_type": "code",
   "execution_count": 5,
   "id": "1371af86",
   "metadata": {},
   "outputs": [
    {
     "name": "stderr",
     "output_type": "stream",
     "text": [
      "Created a chunk of size 1007, which is longer than the specified 1000\n",
      "Created a chunk of size 1010, which is longer than the specified 1000\n"
     ]
    }
   ],
   "source": [
    "text_splitter = CharacterTextSplitter(chunk_size=1000, chunk_overlap=0)\n",
    "chunks_of_text = text_splitter.split_documents(loaded_document)\n",
    "vector_db = FAISS.from_documents(chunks_of_text, OpenAIEmbeddings())"
   ]
  },
  {
   "cell_type": "code",
   "execution_count": 7,
   "id": "20d747d0",
   "metadata": {},
   "outputs": [
    {
     "data": {
      "text/plain": [
       "[Document(metadata={'source': './data/PhilHistory.txt'}, page_content='The Philippines, an archipelago comprising over 7,600 islands in Southeast Asia, boasts a profound and intricate history, shaped by millennia of indigenous development, centuries of colonial rule, and the unwavering spirit of its people. Its narrative is a mosaic of diverse cultures, struggles for sovereignty, and a continuous quest for national identity.\\n\\nI. The Pre-Colonial Tapestry (c. 900 AD - 1565 AD)'),\n",
       " Document(metadata={'source': './data/PhilHistory.txt'}, page_content='Long before the arrival of European explorers, the Philippine islands were a vibrant hub of diverse societies. Early Filipinos, of Austronesian descent, arrived in waves, bringing with them advanced maritime technology, agricultural practices, and sophisticated social structures. Communities were typically organized into independent \"barangays,\" named after the boats (balangay) that brought the early settlers. Each barangay was headed by a \"datu\" or \"rajah,\" hereditary leaders who served as chief, judge, and military commander. Social classes were generally composed of the datu, maharlika (nobles), timawa (freemen), and alipin (dependents or slaves, often through debt or capture, whose status could be changed).'),\n",
       " Document(metadata={'source': './data/PhilHistory.txt'}, page_content='Trade was a cornerstone of pre-colonial Philippine life. Filipinos engaged in extensive commerce with neighboring Asian civilizations, including China, India, Japan, Thailand, Vietnam, and Malaysia. Excavations have unearthed pottery, silks, and other artifacts from these regions, attesting to robust trade networks. This exchange led to significant cultural diffusion, particularly the influence of Indianized kingdoms and the spread of Islam. By the 13th century, Islam began to take root in the southern Philippines, brought by Arab and Malay traders and missionaries. Sultanates, like those of Sulu and Maguindanao, emerged as powerful political and economic entities, extending their influence across the southern islands and even parts of Borneo. These pre-colonial societies developed their own writing systems (Baybayin), rich oral traditions, intricate weaving, and sophisticated metallurgy. They possessed a deep understanding of their environment, practicing sustainable agriculture and fishing.'),\n",
       " Document(metadata={'source': './data/PhilHistory.txt'}, page_content='II. The Era of Spanish Colonialism (1565-1898)\\n\\nThe arrival of Ferdinand Magellan in 1521 marked the beginning of European contact, though his expedition ended tragically for him in the Battle of Mactan. It was Miguel López de Legazpi who successfully established the first permanent Spanish settlement in Cebu in 1565, subsequently moving the capital to Manila in 1571. For over three centuries, Spain imposed a centralized colonial administration.\\n\\nThe primary motivations for Spanish colonization were the propagation of Catholicism and the acquisition of wealth. The friars, particularly the Augustinians, Franciscans, Dominicans, and Recollects, played a pivotal role, not only in converting the populace but also in local administration, education, and even economic affairs. Churches, convents, and schools became the centers of community life. While Christianity profoundly shaped Filipino culture, it often came with the suppression of indigenous beliefs and practices.'),\n",
       " Document(metadata={'source': './data/PhilHistory.txt'}, page_content='Economically, the Spanish introduced new crops, agricultural techniques, and the \"encomienda\" system (a grant of land and its inhabitants to a Spaniard), which often led to abuse and exploitation. The \"Galleon Trade,\" linking Manila with Acapulco, Mexico, for over 250 years, was the economic lifeline of the colony. Asian goods like silk, spices, and porcelain were traded for Mexican silver, bringing significant wealth to a select few but often little benefit to the broader Filipino population. Forced labor for public works (\"polo y servicio\") and tribute collection were common grievances.'),\n",
       " Document(metadata={'source': './data/PhilHistory.txt'}, page_content='Despite the firm grip of Spanish rule, resistance was constant but localized. Early revolts, such as those led by Lapu-Lapu, Dagohoy (whose rebellion in Bohol lasted for 85 years), and numerous others, were often triggered by religious oppression, economic hardship, or desire for autonomy. By the 19th century, a burgeoning sense of Filipino identity (\"Filipino\" initially referred to Spaniards born in the Philippines, but gradually encompassed the native elite) began to emerge. The opening of the Suez Canal in 1869 shortened travel time to Europe, allowing more Filipinos to study abroad and encounter liberal ideas.'),\n",
       " Document(metadata={'source': './data/PhilHistory.txt'}, page_content='This intellectual awakening gave rise to the \"Propaganda Movement,\" led by educated Filipinos like Jose Rizal, Marcelo H. del Pilar, and Graciano Lopez Jaena. They advocated for reforms within the Spanish system: equality before the law, representation in the Spanish Cortes, and secularization of the parishes. Their writings, particularly Rizal\\'s novels \"Noli Me Tángere\" and \"El filibusterismo,\" exposed the injustices of Spanish rule and ignited nationalist sentiments.\\n\\nIII. Revolution, Republic, and American Intervention (1896-1946)'),\n",
       " Document(metadata={'source': './data/PhilHistory.txt'}, page_content='The failure of the Propaganda Movement to achieve meaningful reforms led to a more radical approach. Andres Bonifacio, a self-educated plebeian, founded the \"Katipunan\" (Kataas-taasang, Kagalang-galangang Katipunan ng mga Anak ng Bayan – Highest and Most Respected Association of the Sons of the Nation) in 1892. This secret society aimed for complete independence through armed revolution. The discovery of the Katipunan in August 1896 triggered the Philippine Revolution.'),\n",
       " Document(metadata={'source': './data/PhilHistory.txt'}, page_content=\"Though initially hesitant, Jose Rizal's unjust execution in December 1896 on charges of rebellion galvanized the Filipino people. The revolution spread rapidly, with Emilio Aguinaldo emerging as a prominent leader, especially after the Tejeros Convention in 1897, where he replaced Bonifacio as the revolutionary president. The Spanish-American War in 1898 provided a turning point. As the U.S. Navy defeated the Spanish fleet in Manila Bay, Aguinaldo returned to the Philippines from exile and, believing American assurances of support for independence, rallied Filipino forces. On June 12, 1898, Aguinaldo declared Philippine independence from Spain in Kawit, Cavite, establishing the First Philippine Republic, Asia's first constitutional republic.\"),\n",
       " Document(metadata={'source': './data/PhilHistory.txt'}, page_content='However, Filipino aspirations for genuine independence were thwarted by the Treaty of Paris in December 1898, where Spain ceded the Philippines to the United States for $20 million. This act, without Filipino consent, ignited the Philippine-American War (1899-1902), a brutal conflict that resulted in significant Filipino casualties and the eventual capture of Aguinaldo. Despite the official end of the war, sporadic resistance continued for several years.'),\n",
       " Document(metadata={'source': './data/PhilHistory.txt'}, page_content='Under American rule, the Philippines underwent significant transformations. The U.S. introduced a public education system, making English the medium of instruction and laying the groundwork for a more educated populace. Infrastructure development, including roads, bridges, and ports, was prioritized. American political institutions, such as a republican form of government with elected representatives, were gradually introduced, culminating in the establishment of the Philippine Commonwealth in 1935, with Manuel L. Quezon as its first president. This period was intended as a transition towards full independence, scheduled for 1946.'),\n",
       " Document(metadata={'source': './data/PhilHistory.txt'}, page_content=\"The outbreak of World War II dramatically interrupted this path. On December 8, 1941, Japan launched an attack on the Philippines, just hours after the Pearl Harbor attack. The ensuing Japanese occupation (1942-1945) was a period of immense suffering, characterized by the Bataan Death March, widespread atrocities, and the suppression of civil liberties. Filipino and American forces, though initially overwhelmed, engaged in fierce resistance, and numerous guerilla movements emerged across the islands. The liberation of the Philippines began with General Douglas MacArthur's landing in Leyte in October 1944, culminating in the intense Battle of Manila in 1945.\\n\\nIV. The Post-War Republic: Challenges and Progress (1946-2000)\"),\n",
       " Document(metadata={'source': './data/PhilHistory.txt'}, page_content='On July 4, 1946, the Philippines finally gained full independence from the United States. The nascent republic faced the monumental task of rebuilding a war-devastated nation. Early challenges included widespread destruction, economic rehabilitation, and the resurgence of the Hukbalahap rebellion (a peasant-led communist insurgency, eventually suppressed by the Magsaysay administration).\\n\\nThe post-independence period saw a succession of presidencies, each grappling with issues of poverty, corruption, and political stability:'),\n",
       " Document(metadata={'source': './data/PhilHistory.txt'}, page_content='* **Manuel Roxas (1946-1948):** The first president of the independent republic, he focused on reconstruction and establishing relations with the U.S.\\n* **Elpidio Quirino (1948-1953):** Continued Roxas\\'s policies, but faced the Huk rebellion and economic challenges.\\n* **Ramon Magsaysay (1953-1957):** A popular president, known for his anti-corruption efforts and focus on rural development, and his success in curbing the Huk insurgency.\\n* **Carlos P. Garcia (1957-1961):** Advocated for the \"Filipino First\" policy, promoting local industries and economic nationalism.\\n* **Diosdado Macapagal (1961-1965):** Shifted the Independence Day from July 4 to June 12 and introduced land reform programs.'),\n",
       " Document(metadata={'source': './data/PhilHistory.txt'}, page_content='**Ferdinand Marcos (1965-1986):** Marcos\\'s presidency, initially marked by ambitious infrastructure projects and economic growth, took a drastic turn.\\n    * **Martial Law (1972-1981):** Citing rising communist insurgency and civil unrest, Marcos declared Martial Law on September 21, 1972. This period saw the suppression of civil liberties, media censorship, arrest of political opponents, and military rule. While some argue for initial improvements in peace and order and infrastructure, it also led to widespread human rights abuses, rampant corruption, and the consolidation of power under Marcos and his cronies.\\n    * **Economic Decline:** Despite some visible development, the economy began to falter under the weight of massive foreign debt, mismanagement, and crony capitalism.\\n    * **Assassination of Benigno \"Ninoy\" Aquino Jr. (1983):** The assassination of the popular opposition leader upon his return from exile in 1983 ignited widespread public outrage and galvanized the anti-Marcos movement.'),\n",
       " Document(metadata={'source': './data/PhilHistory.txt'}, page_content=\"**People Power Revolution (1986):** Mounting protests, a fraudulent snap election in February 1986, and a military defection led to the historic People Power Revolution. Millions of Filipinos, supported by elements of the military, converged on EDSA (Epifanio de los Santos Avenue) in Manila, peacefully demanding Marcos's ouster. Marcos and his family were forced into exile, ending his 20-year rule.\"),\n",
       " Document(metadata={'source': './data/PhilHistory.txt'}, page_content=\"**Corazon Aquino (1986-1992):** Ninoy Aquino's widow, Corazon Aquino, was installed as president, ushering in a new democratic era. Her administration focused on restoring democratic institutions, drafting a new constitution (ratified in 1987), and addressing human rights abuses. However, it also faced numerous coup attempts by disgruntled military factions and persistent economic challenges. The bases agreement with the United States also expired, leading to the withdrawal of U.S. military presence at Clark Air Base and Subic Bay Naval Base by 1992, after the Philippine Senate rejected a new treaty.\"),\n",
       " Document(metadata={'source': './data/PhilHistory.txt'}, page_content='**Fidel V. Ramos (1992-1998):** Ramos, a former general and a key figure in the People Power Revolution, succeeded Aquino. His presidency was marked by a period of economic recovery and liberalization, dubbed \"Philippines 2000,\" which aimed to propel the country into newly industrialized status. He pursued peace negotiations with rebel groups and focused on energy and infrastructure development. The Philippines experienced significant economic growth during the mid-1990s, though it was impacted by the 1997 Asian Financial Crisis.\\n\\n**Joseph Estrada (1998-2001):** A popular actor, Estrada won the presidency by a landslide in 1998, campaigning on an anti-poverty platform. His administration faced challenges related to governance and alleged corruption. By the end of 2000, allegations of plunder led to an impeachment trial, setting the stage for further political upheaval in early 2001.'),\n",
       " Document(metadata={'source': './data/PhilHistory.txt'}, page_content='By the turn of the millennium, the Philippines had established itself as a vibrant democracy, though it continued to grapple with persistent issues such as poverty, corruption, political dynasties, and security concerns, particularly in the southern regions. Its journey into the 21st century would continue to be defined by these enduring challenges and the ongoing pursuit of national development and stability.\\n```')]"
      ]
     },
     "execution_count": 7,
     "metadata": {},
     "output_type": "execute_result"
    }
   ],
   "source": [
    "chunks_of_text"
   ]
  },
  {
   "cell_type": "code",
   "execution_count": 6,
   "id": "b345427e",
   "metadata": {},
   "outputs": [
    {
     "data": {
      "text/plain": [
       "19"
      ]
     },
     "execution_count": 6,
     "metadata": {},
     "output_type": "execute_result"
    }
   ],
   "source": [
    "len(chunks_of_text)"
   ]
  },
  {
   "cell_type": "code",
   "execution_count": null,
   "id": "227428d9",
   "metadata": {},
   "outputs": [],
   "source": [
    "\n",
    "embeddings = OpenAIEmbeddings()\n",
    "vector_db = FAISS.from_documents(chunks_of_text, embeddings)"
   ]
  },
  {
   "cell_type": "code",
   "execution_count": 8,
   "id": "174eda49",
   "metadata": {},
   "outputs": [
    {
     "data": {
      "text/plain": [
       "<langchain_community.vectorstores.faiss.FAISS at 0x2671c570050>"
      ]
     },
     "execution_count": 8,
     "metadata": {},
     "output_type": "execute_result"
    }
   ],
   "source": [
    "vector_db"
   ]
  },
  {
   "cell_type": "code",
   "execution_count": 9,
   "id": "70f1e8c2",
   "metadata": {},
   "outputs": [],
   "source": [
    "retriever = vector_db.as_retriever(search_kwargs={\"k\":3})"
   ]
  },
  {
   "cell_type": "code",
   "execution_count": 12,
   "id": "0c38f9f0",
   "metadata": {},
   "outputs": [
    {
     "data": {
      "text/plain": [
       "VectorStoreRetriever(tags=['FAISS', 'OpenAIEmbeddings'], vectorstore=<langchain_community.vectorstores.faiss.FAISS object at 0x000001D3F8737590>, search_kwargs={'k': 3})"
      ]
     },
     "execution_count": 12,
     "metadata": {},
     "output_type": "execute_result"
    }
   ],
   "source": [
    "retriever"
   ]
  },
  {
   "cell_type": "code",
   "execution_count": 10,
   "id": "01d5529f",
   "metadata": {},
   "outputs": [],
   "source": [
    "response = retriever.invoke(\"How many islands does the Philippines have?\")"
   ]
  },
  {
   "cell_type": "code",
   "execution_count": 11,
   "id": "9e68c23c",
   "metadata": {},
   "outputs": [
    {
     "data": {
      "text/plain": [
       "[Document(metadata={'source': './data/PhilHistory.txt'}, page_content='The Philippines, an archipelago comprising over 7,600 islands in Southeast Asia, boasts a profound and intricate history, shaped by millennia of indigenous development, centuries of colonial rule, and the unwavering spirit of its people. Its narrative is a mosaic of diverse cultures, struggles for sovereignty, and a continuous quest for national identity.\\n\\nI. The Pre-Colonial Tapestry (c. 900 AD - 1565 AD)'),\n",
       " Document(metadata={'source': './data/PhilHistory.txt'}, page_content='Long before the arrival of European explorers, the Philippine islands were a vibrant hub of diverse societies. Early Filipinos, of Austronesian descent, arrived in waves, bringing with them advanced maritime technology, agricultural practices, and sophisticated social structures. Communities were typically organized into independent \"barangays,\" named after the boats (balangay) that brought the early settlers. Each barangay was headed by a \"datu\" or \"rajah,\" hereditary leaders who served as chief, judge, and military commander. Social classes were generally composed of the datu, maharlika (nobles), timawa (freemen), and alipin (dependents or slaves, often through debt or capture, whose status could be changed).'),\n",
       " Document(metadata={'source': './data/PhilHistory.txt'}, page_content='On July 4, 1946, the Philippines finally gained full independence from the United States. The nascent republic faced the monumental task of rebuilding a war-devastated nation. Early challenges included widespread destruction, economic rehabilitation, and the resurgence of the Hukbalahap rebellion (a peasant-led communist insurgency, eventually suppressed by the Magsaysay administration).\\n\\nThe post-independence period saw a succession of presidencies, each grappling with issues of poverty, corruption, and political stability:')]"
      ]
     },
     "execution_count": 11,
     "metadata": {},
     "output_type": "execute_result"
    }
   ],
   "source": [
    "response"
   ]
  },
  {
   "cell_type": "markdown",
   "id": "ec8dd529",
   "metadata": {},
   "source": [
    "## get the final answer using a simple LCEL"
   ]
  },
  {
   "cell_type": "code",
   "execution_count": 12,
   "id": "18b8043f",
   "metadata": {},
   "outputs": [],
   "source": [
    "from langchain_openai import ChatOpenAI\n",
    "from langchain_core.prompts import ChatPromptTemplate\n",
    "from langchain_core.output_parsers import StrOutputParser\n",
    "from langchain_core.runnables import RunnablePassthrough"
   ]
  },
  {
   "cell_type": "code",
   "execution_count": 13,
   "id": "930ccc24",
   "metadata": {},
   "outputs": [],
   "source": [
    "template = \"\"\" Answer the question based only on the ff: context:\n",
    "\n",
    "{context}\n",
    "\n",
    "Question: {question}\n",
    "\"\"\"\n",
    "\n",
    "prompt = ChatPromptTemplate.from_template(template)\n",
    "\n",
    "model = ChatOpenAI()"
   ]
  },
  {
   "cell_type": "code",
   "execution_count": 14,
   "id": "4aeb36b5",
   "metadata": {},
   "outputs": [],
   "source": [
    "def format_docs(docs):\n",
    "    return \"\\n\\n\".join([d.page_content for d in docs])\n",
    "\n",
    "chain = (\n",
    "    {\"context\": retriever | format_docs, \"question\": RunnablePassthrough()}\n",
    "    | prompt\n",
    "    | model\n",
    "    | StrOutputParser()\n",
    ")"
   ]
  },
  {
   "cell_type": "code",
   "execution_count": 15,
   "id": "39738c8b",
   "metadata": {},
   "outputs": [],
   "source": [
    "response = chain.invoke(\"How many islands does the Philippines have?\")"
   ]
  },
  {
   "cell_type": "code",
   "execution_count": 19,
   "id": "e3dba017",
   "metadata": {},
   "outputs": [
    {
     "data": {
      "text/plain": [
       "'The Philippines comprises over 7,600 islands.'"
      ]
     },
     "execution_count": 19,
     "metadata": {},
     "output_type": "execute_result"
    }
   ],
   "source": [
    "response"
   ]
  },
  {
   "cell_type": "code",
   "execution_count": 16,
   "id": "2dc2cdec",
   "metadata": {},
   "outputs": [],
   "source": [
    "#response = chain.invoke(\"How many islands does the Philippines have?\")\n",
    "#response = chain.invoke(\"When was Jose Riza executed?\")\n",
    "response = chain.invoke(\"Explain the galleon trade\")"
   ]
  },
  {
   "cell_type": "code",
   "execution_count": 17,
   "id": "cb44adfd",
   "metadata": {},
   "outputs": [
    {
     "data": {
      "text/plain": [
       "'The Galleon Trade was a trading route that linked Manila in the Philippines with Acapulco in Mexico for over 250 years. It involved the exchange of Asian goods like silk, spices, and porcelain for Mexican silver. This trade route brought significant wealth to a select few individuals, but often did not benefit the broader Filipino population.'"
      ]
     },
     "execution_count": 17,
     "metadata": {},
     "output_type": "execute_result"
    }
   ],
   "source": [
    "response"
   ]
  },
  {
   "cell_type": "code",
   "execution_count": null,
   "id": "b0e814ae",
   "metadata": {},
   "outputs": [],
   "source": []
  }
 ],
 "metadata": {
  "kernelspec": {
   "display_name": ".venv",
   "language": "python",
   "name": "python3"
  },
  "language_info": {
   "codemirror_mode": {
    "name": "ipython",
    "version": 3
   },
   "file_extension": ".py",
   "mimetype": "text/x-python",
   "name": "python",
   "nbconvert_exporter": "python",
   "pygments_lexer": "ipython3",
   "version": "3.13.5"
  }
 },
 "nbformat": 4,
 "nbformat_minor": 5
}
